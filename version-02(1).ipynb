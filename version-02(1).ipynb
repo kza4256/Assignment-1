{
 "cells": [
  {
   "cell_type": "markdown",
   "metadata": {},
   "source": [
    "### Reference [1]\n",
    "https://www.algoritmaornekleri.com/makine-ogrenimi/kaggle-notebooks-kullanimi-basit-ornek/"
   ]
  },
  {
   "cell_type": "code",
   "execution_count": 1,
   "metadata": {
    "execution": {
     "iopub.execute_input": "2023-11-05T07:24:29.032138Z",
     "iopub.status.busy": "2023-11-05T07:24:29.031804Z",
     "iopub.status.idle": "2023-11-05T07:24:29.929070Z",
     "shell.execute_reply": "2023-11-05T07:24:29.928238Z",
     "shell.execute_reply.started": "2023-11-05T07:24:29.032111Z"
    }
   },
   "outputs": [
    {
     "name": "stdout",
     "output_type": "stream",
     "text": [
      "/kaggle/input/flower-classification-with-tpus/sample_submission.csv\n",
      "/kaggle/input/flower-classification-with-tpus/tfrecords-jpeg-224x224/val/09-224x224-232.tfrec\n",
      "/kaggle/input/flower-classification-with-tpus/tfrecords-jpeg-224x224/val/14-224x224-232.tfrec\n",
      "/kaggle/input/flower-classification-with-tpus/tfrecords-jpeg-224x224/val/01-224x224-232.tfrec\n",
      "/kaggle/input/flower-classification-with-tpus/tfrecords-jpeg-224x224/val/13-224x224-232.tfrec\n",
      "/kaggle/input/flower-classification-with-tpus/tfrecords-jpeg-224x224/val/00-224x224-232.tfrec\n",
      "/kaggle/input/flower-classification-with-tpus/tfrecords-jpeg-224x224/val/07-224x224-232.tfrec\n",
      "/kaggle/input/flower-classification-with-tpus/tfrecords-jpeg-224x224/val/12-224x224-232.tfrec\n",
      "/kaggle/input/flower-classification-with-tpus/tfrecords-jpeg-224x224/val/11-224x224-232.tfrec\n",
      "/kaggle/input/flower-classification-with-tpus/tfrecords-jpeg-224x224/val/05-224x224-232.tfrec\n",
      "/kaggle/input/flower-classification-with-tpus/tfrecords-jpeg-224x224/val/04-224x224-232.tfrec\n",
      "/kaggle/input/flower-classification-with-tpus/tfrecords-jpeg-224x224/val/15-224x224-232.tfrec\n",
      "/kaggle/input/flower-classification-with-tpus/tfrecords-jpeg-224x224/val/06-224x224-232.tfrec\n",
      "/kaggle/input/flower-classification-with-tpus/tfrecords-jpeg-224x224/val/02-224x224-232.tfrec\n",
      "/kaggle/input/flower-classification-with-tpus/tfrecords-jpeg-224x224/val/03-224x224-232.tfrec\n",
      "/kaggle/input/flower-classification-with-tpus/tfrecords-jpeg-224x224/val/08-224x224-232.tfrec\n",
      "/kaggle/input/flower-classification-with-tpus/tfrecords-jpeg-224x224/val/10-224x224-232.tfrec\n",
      "/kaggle/input/flower-classification-with-tpus/tfrecords-jpeg-224x224/test/04-224x224-462.tfrec\n",
      "/kaggle/input/flower-classification-with-tpus/tfrecords-jpeg-224x224/test/06-224x224-462.tfrec\n",
      "/kaggle/input/flower-classification-with-tpus/tfrecords-jpeg-224x224/test/05-224x224-462.tfrec\n",
      "/kaggle/input/flower-classification-with-tpus/tfrecords-jpeg-224x224/test/08-224x224-462.tfrec\n",
      "/kaggle/input/flower-classification-with-tpus/tfrecords-jpeg-224x224/test/15-224x224-452.tfrec\n",
      "/kaggle/input/flower-classification-with-tpus/tfrecords-jpeg-224x224/test/09-224x224-462.tfrec\n",
      "/kaggle/input/flower-classification-with-tpus/tfrecords-jpeg-224x224/test/10-224x224-462.tfrec\n",
      "/kaggle/input/flower-classification-with-tpus/tfrecords-jpeg-224x224/test/07-224x224-462.tfrec\n",
      "/kaggle/input/flower-classification-with-tpus/tfrecords-jpeg-224x224/test/00-224x224-462.tfrec\n",
      "/kaggle/input/flower-classification-with-tpus/tfrecords-jpeg-224x224/test/01-224x224-462.tfrec\n",
      "/kaggle/input/flower-classification-with-tpus/tfrecords-jpeg-224x224/test/12-224x224-462.tfrec\n",
      "/kaggle/input/flower-classification-with-tpus/tfrecords-jpeg-224x224/test/14-224x224-462.tfrec\n",
      "/kaggle/input/flower-classification-with-tpus/tfrecords-jpeg-224x224/test/03-224x224-462.tfrec\n",
      "/kaggle/input/flower-classification-with-tpus/tfrecords-jpeg-224x224/test/02-224x224-462.tfrec\n",
      "/kaggle/input/flower-classification-with-tpus/tfrecords-jpeg-224x224/test/11-224x224-462.tfrec\n",
      "/kaggle/input/flower-classification-with-tpus/tfrecords-jpeg-224x224/test/13-224x224-462.tfrec\n",
      "/kaggle/input/flower-classification-with-tpus/tfrecords-jpeg-224x224/train/13-224x224-798.tfrec\n",
      "/kaggle/input/flower-classification-with-tpus/tfrecords-jpeg-224x224/train/11-224x224-798.tfrec\n",
      "/kaggle/input/flower-classification-with-tpus/tfrecords-jpeg-224x224/train/05-224x224-798.tfrec\n",
      "/kaggle/input/flower-classification-with-tpus/tfrecords-jpeg-224x224/train/00-224x224-798.tfrec\n",
      "/kaggle/input/flower-classification-with-tpus/tfrecords-jpeg-224x224/train/02-224x224-798.tfrec\n",
      "/kaggle/input/flower-classification-with-tpus/tfrecords-jpeg-224x224/train/14-224x224-798.tfrec\n",
      "/kaggle/input/flower-classification-with-tpus/tfrecords-jpeg-224x224/train/06-224x224-798.tfrec\n",
      "/kaggle/input/flower-classification-with-tpus/tfrecords-jpeg-224x224/train/10-224x224-798.tfrec\n",
      "/kaggle/input/flower-classification-with-tpus/tfrecords-jpeg-224x224/train/01-224x224-798.tfrec\n",
      "/kaggle/input/flower-classification-with-tpus/tfrecords-jpeg-224x224/train/03-224x224-798.tfrec\n",
      "/kaggle/input/flower-classification-with-tpus/tfrecords-jpeg-224x224/train/08-224x224-798.tfrec\n",
      "/kaggle/input/flower-classification-with-tpus/tfrecords-jpeg-224x224/train/09-224x224-798.tfrec\n",
      "/kaggle/input/flower-classification-with-tpus/tfrecords-jpeg-224x224/train/15-224x224-783.tfrec\n",
      "/kaggle/input/flower-classification-with-tpus/tfrecords-jpeg-224x224/train/07-224x224-798.tfrec\n",
      "/kaggle/input/flower-classification-with-tpus/tfrecords-jpeg-224x224/train/04-224x224-798.tfrec\n",
      "/kaggle/input/flower-classification-with-tpus/tfrecords-jpeg-224x224/train/12-224x224-798.tfrec\n",
      "/kaggle/input/flower-classification-with-tpus/tfrecords-jpeg-331x331/val/05-331x331-232.tfrec\n",
      "/kaggle/input/flower-classification-with-tpus/tfrecords-jpeg-331x331/val/08-331x331-232.tfrec\n",
      "/kaggle/input/flower-classification-with-tpus/tfrecords-jpeg-331x331/val/01-331x331-232.tfrec\n",
      "/kaggle/input/flower-classification-with-tpus/tfrecords-jpeg-331x331/val/03-331x331-232.tfrec\n",
      "/kaggle/input/flower-classification-with-tpus/tfrecords-jpeg-331x331/val/13-331x331-232.tfrec\n",
      "/kaggle/input/flower-classification-with-tpus/tfrecords-jpeg-331x331/val/10-331x331-232.tfrec\n",
      "/kaggle/input/flower-classification-with-tpus/tfrecords-jpeg-331x331/val/07-331x331-232.tfrec\n",
      "/kaggle/input/flower-classification-with-tpus/tfrecords-jpeg-331x331/val/04-331x331-232.tfrec\n",
      "/kaggle/input/flower-classification-with-tpus/tfrecords-jpeg-331x331/val/14-331x331-232.tfrec\n",
      "/kaggle/input/flower-classification-with-tpus/tfrecords-jpeg-331x331/val/15-331x331-232.tfrec\n",
      "/kaggle/input/flower-classification-with-tpus/tfrecords-jpeg-331x331/val/12-331x331-232.tfrec\n",
      "/kaggle/input/flower-classification-with-tpus/tfrecords-jpeg-331x331/val/11-331x331-232.tfrec\n",
      "/kaggle/input/flower-classification-with-tpus/tfrecords-jpeg-331x331/val/02-331x331-232.tfrec\n",
      "/kaggle/input/flower-classification-with-tpus/tfrecords-jpeg-331x331/val/00-331x331-232.tfrec\n",
      "/kaggle/input/flower-classification-with-tpus/tfrecords-jpeg-331x331/val/06-331x331-232.tfrec\n",
      "/kaggle/input/flower-classification-with-tpus/tfrecords-jpeg-331x331/val/09-331x331-232.tfrec\n",
      "/kaggle/input/flower-classification-with-tpus/tfrecords-jpeg-331x331/test/14-331x331-462.tfrec\n",
      "/kaggle/input/flower-classification-with-tpus/tfrecords-jpeg-331x331/test/13-331x331-462.tfrec\n",
      "/kaggle/input/flower-classification-with-tpus/tfrecords-jpeg-331x331/test/03-331x331-462.tfrec\n",
      "/kaggle/input/flower-classification-with-tpus/tfrecords-jpeg-331x331/test/05-331x331-462.tfrec\n",
      "/kaggle/input/flower-classification-with-tpus/tfrecords-jpeg-331x331/test/09-331x331-462.tfrec\n",
      "/kaggle/input/flower-classification-with-tpus/tfrecords-jpeg-331x331/test/04-331x331-462.tfrec\n",
      "/kaggle/input/flower-classification-with-tpus/tfrecords-jpeg-331x331/test/01-331x331-462.tfrec\n",
      "/kaggle/input/flower-classification-with-tpus/tfrecords-jpeg-331x331/test/11-331x331-462.tfrec\n",
      "/kaggle/input/flower-classification-with-tpus/tfrecords-jpeg-331x331/test/07-331x331-462.tfrec\n",
      "/kaggle/input/flower-classification-with-tpus/tfrecords-jpeg-331x331/test/08-331x331-462.tfrec\n",
      "/kaggle/input/flower-classification-with-tpus/tfrecords-jpeg-331x331/test/00-331x331-462.tfrec\n",
      "/kaggle/input/flower-classification-with-tpus/tfrecords-jpeg-331x331/test/02-331x331-462.tfrec\n",
      "/kaggle/input/flower-classification-with-tpus/tfrecords-jpeg-331x331/test/15-331x331-452.tfrec\n",
      "/kaggle/input/flower-classification-with-tpus/tfrecords-jpeg-331x331/test/10-331x331-462.tfrec\n",
      "/kaggle/input/flower-classification-with-tpus/tfrecords-jpeg-331x331/test/12-331x331-462.tfrec\n",
      "/kaggle/input/flower-classification-with-tpus/tfrecords-jpeg-331x331/test/06-331x331-462.tfrec\n",
      "/kaggle/input/flower-classification-with-tpus/tfrecords-jpeg-331x331/train/15-331x331-783.tfrec\n",
      "/kaggle/input/flower-classification-with-tpus/tfrecords-jpeg-331x331/train/02-331x331-798.tfrec\n",
      "/kaggle/input/flower-classification-with-tpus/tfrecords-jpeg-331x331/train/14-331x331-798.tfrec\n",
      "/kaggle/input/flower-classification-with-tpus/tfrecords-jpeg-331x331/train/04-331x331-798.tfrec\n",
      "/kaggle/input/flower-classification-with-tpus/tfrecords-jpeg-331x331/train/08-331x331-798.tfrec\n",
      "/kaggle/input/flower-classification-with-tpus/tfrecords-jpeg-331x331/train/12-331x331-798.tfrec\n",
      "/kaggle/input/flower-classification-with-tpus/tfrecords-jpeg-331x331/train/03-331x331-798.tfrec\n",
      "/kaggle/input/flower-classification-with-tpus/tfrecords-jpeg-331x331/train/05-331x331-798.tfrec\n",
      "/kaggle/input/flower-classification-with-tpus/tfrecords-jpeg-331x331/train/00-331x331-798.tfrec\n",
      "/kaggle/input/flower-classification-with-tpus/tfrecords-jpeg-331x331/train/06-331x331-798.tfrec\n",
      "/kaggle/input/flower-classification-with-tpus/tfrecords-jpeg-331x331/train/07-331x331-798.tfrec\n",
      "/kaggle/input/flower-classification-with-tpus/tfrecords-jpeg-331x331/train/09-331x331-798.tfrec\n",
      "/kaggle/input/flower-classification-with-tpus/tfrecords-jpeg-331x331/train/10-331x331-798.tfrec\n",
      "/kaggle/input/flower-classification-with-tpus/tfrecords-jpeg-331x331/train/01-331x331-798.tfrec\n",
      "/kaggle/input/flower-classification-with-tpus/tfrecords-jpeg-331x331/train/13-331x331-798.tfrec\n",
      "/kaggle/input/flower-classification-with-tpus/tfrecords-jpeg-331x331/train/11-331x331-798.tfrec\n",
      "/kaggle/input/flower-classification-with-tpus/tfrecords-jpeg-192x192/val/05-192x192-232.tfrec\n",
      "/kaggle/input/flower-classification-with-tpus/tfrecords-jpeg-192x192/val/07-192x192-232.tfrec\n",
      "/kaggle/input/flower-classification-with-tpus/tfrecords-jpeg-192x192/val/15-192x192-232.tfrec\n",
      "/kaggle/input/flower-classification-with-tpus/tfrecords-jpeg-192x192/val/08-192x192-232.tfrec\n",
      "/kaggle/input/flower-classification-with-tpus/tfrecords-jpeg-192x192/val/06-192x192-232.tfrec\n",
      "/kaggle/input/flower-classification-with-tpus/tfrecords-jpeg-192x192/val/00-192x192-232.tfrec\n",
      "/kaggle/input/flower-classification-with-tpus/tfrecords-jpeg-192x192/val/11-192x192-232.tfrec\n",
      "/kaggle/input/flower-classification-with-tpus/tfrecords-jpeg-192x192/val/04-192x192-232.tfrec\n",
      "/kaggle/input/flower-classification-with-tpus/tfrecords-jpeg-192x192/val/09-192x192-232.tfrec\n",
      "/kaggle/input/flower-classification-with-tpus/tfrecords-jpeg-192x192/val/02-192x192-232.tfrec\n",
      "/kaggle/input/flower-classification-with-tpus/tfrecords-jpeg-192x192/val/10-192x192-232.tfrec\n",
      "/kaggle/input/flower-classification-with-tpus/tfrecords-jpeg-192x192/val/12-192x192-232.tfrec\n",
      "/kaggle/input/flower-classification-with-tpus/tfrecords-jpeg-192x192/val/14-192x192-232.tfrec\n",
      "/kaggle/input/flower-classification-with-tpus/tfrecords-jpeg-192x192/val/13-192x192-232.tfrec\n",
      "/kaggle/input/flower-classification-with-tpus/tfrecords-jpeg-192x192/val/03-192x192-232.tfrec\n",
      "/kaggle/input/flower-classification-with-tpus/tfrecords-jpeg-192x192/val/01-192x192-232.tfrec\n",
      "/kaggle/input/flower-classification-with-tpus/tfrecords-jpeg-192x192/test/06-192x192-462.tfrec\n",
      "/kaggle/input/flower-classification-with-tpus/tfrecords-jpeg-192x192/test/12-192x192-462.tfrec\n",
      "/kaggle/input/flower-classification-with-tpus/tfrecords-jpeg-192x192/test/08-192x192-462.tfrec\n",
      "/kaggle/input/flower-classification-with-tpus/tfrecords-jpeg-192x192/test/07-192x192-462.tfrec\n",
      "/kaggle/input/flower-classification-with-tpus/tfrecords-jpeg-192x192/test/00-192x192-462.tfrec\n",
      "/kaggle/input/flower-classification-with-tpus/tfrecords-jpeg-192x192/test/03-192x192-462.tfrec\n",
      "/kaggle/input/flower-classification-with-tpus/tfrecords-jpeg-192x192/test/13-192x192-462.tfrec\n",
      "/kaggle/input/flower-classification-with-tpus/tfrecords-jpeg-192x192/test/05-192x192-462.tfrec\n",
      "/kaggle/input/flower-classification-with-tpus/tfrecords-jpeg-192x192/test/01-192x192-462.tfrec\n",
      "/kaggle/input/flower-classification-with-tpus/tfrecords-jpeg-192x192/test/14-192x192-462.tfrec\n",
      "/kaggle/input/flower-classification-with-tpus/tfrecords-jpeg-192x192/test/10-192x192-462.tfrec\n",
      "/kaggle/input/flower-classification-with-tpus/tfrecords-jpeg-192x192/test/04-192x192-462.tfrec\n",
      "/kaggle/input/flower-classification-with-tpus/tfrecords-jpeg-192x192/test/15-192x192-452.tfrec\n",
      "/kaggle/input/flower-classification-with-tpus/tfrecords-jpeg-192x192/test/09-192x192-462.tfrec\n",
      "/kaggle/input/flower-classification-with-tpus/tfrecords-jpeg-192x192/test/11-192x192-462.tfrec\n",
      "/kaggle/input/flower-classification-with-tpus/tfrecords-jpeg-192x192/test/02-192x192-462.tfrec\n",
      "/kaggle/input/flower-classification-with-tpus/tfrecords-jpeg-192x192/train/06-192x192-798.tfrec\n",
      "/kaggle/input/flower-classification-with-tpus/tfrecords-jpeg-192x192/train/11-192x192-798.tfrec\n",
      "/kaggle/input/flower-classification-with-tpus/tfrecords-jpeg-192x192/train/12-192x192-798.tfrec\n",
      "/kaggle/input/flower-classification-with-tpus/tfrecords-jpeg-192x192/train/03-192x192-798.tfrec\n",
      "/kaggle/input/flower-classification-with-tpus/tfrecords-jpeg-192x192/train/09-192x192-798.tfrec\n",
      "/kaggle/input/flower-classification-with-tpus/tfrecords-jpeg-192x192/train/08-192x192-798.tfrec\n",
      "/kaggle/input/flower-classification-with-tpus/tfrecords-jpeg-192x192/train/04-192x192-798.tfrec\n",
      "/kaggle/input/flower-classification-with-tpus/tfrecords-jpeg-192x192/train/05-192x192-798.tfrec\n",
      "/kaggle/input/flower-classification-with-tpus/tfrecords-jpeg-192x192/train/14-192x192-798.tfrec\n",
      "/kaggle/input/flower-classification-with-tpus/tfrecords-jpeg-192x192/train/07-192x192-798.tfrec\n",
      "/kaggle/input/flower-classification-with-tpus/tfrecords-jpeg-192x192/train/13-192x192-798.tfrec\n",
      "/kaggle/input/flower-classification-with-tpus/tfrecords-jpeg-192x192/train/15-192x192-783.tfrec\n",
      "/kaggle/input/flower-classification-with-tpus/tfrecords-jpeg-192x192/train/02-192x192-798.tfrec\n",
      "/kaggle/input/flower-classification-with-tpus/tfrecords-jpeg-192x192/train/10-192x192-798.tfrec\n",
      "/kaggle/input/flower-classification-with-tpus/tfrecords-jpeg-192x192/train/01-192x192-798.tfrec\n",
      "/kaggle/input/flower-classification-with-tpus/tfrecords-jpeg-192x192/train/00-192x192-798.tfrec\n",
      "/kaggle/input/flower-classification-with-tpus/tfrecords-jpeg-512x512/val/02-512x512-232.tfrec\n",
      "/kaggle/input/flower-classification-with-tpus/tfrecords-jpeg-512x512/val/12-512x512-232.tfrec\n",
      "/kaggle/input/flower-classification-with-tpus/tfrecords-jpeg-512x512/val/09-512x512-232.tfrec\n",
      "/kaggle/input/flower-classification-with-tpus/tfrecords-jpeg-512x512/val/00-512x512-232.tfrec\n",
      "/kaggle/input/flower-classification-with-tpus/tfrecords-jpeg-512x512/val/13-512x512-232.tfrec\n",
      "/kaggle/input/flower-classification-with-tpus/tfrecords-jpeg-512x512/val/03-512x512-232.tfrec\n",
      "/kaggle/input/flower-classification-with-tpus/tfrecords-jpeg-512x512/val/14-512x512-232.tfrec\n",
      "/kaggle/input/flower-classification-with-tpus/tfrecords-jpeg-512x512/val/04-512x512-232.tfrec\n",
      "/kaggle/input/flower-classification-with-tpus/tfrecords-jpeg-512x512/val/10-512x512-232.tfrec\n",
      "/kaggle/input/flower-classification-with-tpus/tfrecords-jpeg-512x512/val/05-512x512-232.tfrec\n",
      "/kaggle/input/flower-classification-with-tpus/tfrecords-jpeg-512x512/val/08-512x512-232.tfrec\n",
      "/kaggle/input/flower-classification-with-tpus/tfrecords-jpeg-512x512/val/11-512x512-232.tfrec\n",
      "/kaggle/input/flower-classification-with-tpus/tfrecords-jpeg-512x512/val/07-512x512-232.tfrec\n",
      "/kaggle/input/flower-classification-with-tpus/tfrecords-jpeg-512x512/val/15-512x512-232.tfrec\n",
      "/kaggle/input/flower-classification-with-tpus/tfrecords-jpeg-512x512/val/01-512x512-232.tfrec\n",
      "/kaggle/input/flower-classification-with-tpus/tfrecords-jpeg-512x512/val/06-512x512-232.tfrec\n",
      "/kaggle/input/flower-classification-with-tpus/tfrecords-jpeg-512x512/test/15-512x512-452.tfrec\n",
      "/kaggle/input/flower-classification-with-tpus/tfrecords-jpeg-512x512/test/02-512x512-462.tfrec\n",
      "/kaggle/input/flower-classification-with-tpus/tfrecords-jpeg-512x512/test/03-512x512-462.tfrec\n",
      "/kaggle/input/flower-classification-with-tpus/tfrecords-jpeg-512x512/test/01-512x512-462.tfrec\n",
      "/kaggle/input/flower-classification-with-tpus/tfrecords-jpeg-512x512/test/00-512x512-462.tfrec\n",
      "/kaggle/input/flower-classification-with-tpus/tfrecords-jpeg-512x512/test/13-512x512-462.tfrec\n",
      "/kaggle/input/flower-classification-with-tpus/tfrecords-jpeg-512x512/test/07-512x512-462.tfrec\n",
      "/kaggle/input/flower-classification-with-tpus/tfrecords-jpeg-512x512/test/10-512x512-462.tfrec\n",
      "/kaggle/input/flower-classification-with-tpus/tfrecords-jpeg-512x512/test/04-512x512-462.tfrec\n",
      "/kaggle/input/flower-classification-with-tpus/tfrecords-jpeg-512x512/test/14-512x512-462.tfrec\n",
      "/kaggle/input/flower-classification-with-tpus/tfrecords-jpeg-512x512/test/09-512x512-462.tfrec\n",
      "/kaggle/input/flower-classification-with-tpus/tfrecords-jpeg-512x512/test/08-512x512-462.tfrec\n",
      "/kaggle/input/flower-classification-with-tpus/tfrecords-jpeg-512x512/test/11-512x512-462.tfrec\n",
      "/kaggle/input/flower-classification-with-tpus/tfrecords-jpeg-512x512/test/05-512x512-462.tfrec\n",
      "/kaggle/input/flower-classification-with-tpus/tfrecords-jpeg-512x512/test/06-512x512-462.tfrec\n",
      "/kaggle/input/flower-classification-with-tpus/tfrecords-jpeg-512x512/test/12-512x512-462.tfrec\n",
      "/kaggle/input/flower-classification-with-tpus/tfrecords-jpeg-512x512/train/05-512x512-798.tfrec\n",
      "/kaggle/input/flower-classification-with-tpus/tfrecords-jpeg-512x512/train/00-512x512-798.tfrec\n",
      "/kaggle/input/flower-classification-with-tpus/tfrecords-jpeg-512x512/train/11-512x512-798.tfrec\n",
      "/kaggle/input/flower-classification-with-tpus/tfrecords-jpeg-512x512/train/15-512x512-783.tfrec\n",
      "/kaggle/input/flower-classification-with-tpus/tfrecords-jpeg-512x512/train/10-512x512-798.tfrec\n",
      "/kaggle/input/flower-classification-with-tpus/tfrecords-jpeg-512x512/train/12-512x512-798.tfrec\n",
      "/kaggle/input/flower-classification-with-tpus/tfrecords-jpeg-512x512/train/01-512x512-798.tfrec\n",
      "/kaggle/input/flower-classification-with-tpus/tfrecords-jpeg-512x512/train/14-512x512-798.tfrec\n",
      "/kaggle/input/flower-classification-with-tpus/tfrecords-jpeg-512x512/train/13-512x512-798.tfrec\n",
      "/kaggle/input/flower-classification-with-tpus/tfrecords-jpeg-512x512/train/07-512x512-798.tfrec\n",
      "/kaggle/input/flower-classification-with-tpus/tfrecords-jpeg-512x512/train/03-512x512-798.tfrec\n",
      "/kaggle/input/flower-classification-with-tpus/tfrecords-jpeg-512x512/train/06-512x512-798.tfrec\n",
      "/kaggle/input/flower-classification-with-tpus/tfrecords-jpeg-512x512/train/08-512x512-798.tfrec\n",
      "/kaggle/input/flower-classification-with-tpus/tfrecords-jpeg-512x512/train/02-512x512-798.tfrec\n",
      "/kaggle/input/flower-classification-with-tpus/tfrecords-jpeg-512x512/train/09-512x512-798.tfrec\n",
      "/kaggle/input/flower-classification-with-tpus/tfrecords-jpeg-512x512/train/04-512x512-798.tfrec\n"
     ]
    }
   ],
   "source": [
    "# Reference [1]\n",
    "# This Python 3 environment comes with many helpful analytics libraries installed\n",
    "# It is defined by the kaggle/python Docker image: https://github.com/kaggle/docker-python\n",
    "# For example, here's several helpful packages to load\n",
    "\n",
    "import numpy as np # linear algebra\n",
    "import pandas as pd # data processing, CSV file I/O (e.g. pd.read_csv)\n",
    "\n",
    "# Input data files are available in the read-only \"../input/\" directory\n",
    "# For example, running this (by clicking run or pressing Shift+Enter) will list all files under the input directory\n",
    "\n",
    "import os\n",
    "for dirname, _, filenames in os.walk('/kaggle/input'):\n",
    "    for filename in filenames:\n",
    "        print(os.path.join(dirname, filename))\n",
    "\n",
    "# You can write up to 20GB to the current directory (/kaggle/working/) that gets preserved as output when you create a version using \"Save & Run All\" \n",
    "# You can also write temporary files to /kaggle/temp/, but they won't be saved outside of the current session"
   ]
  },
  {
   "cell_type": "markdown",
   "metadata": {},
   "source": [
    "# 1. Data Preprocessing:"
   ]
  },
  {
   "cell_type": "code",
   "execution_count": 2,
   "metadata": {
    "execution": {
     "iopub.execute_input": "2023-11-05T07:24:35.504503Z",
     "iopub.status.busy": "2023-11-05T07:24:35.504107Z",
     "iopub.status.idle": "2023-11-05T07:25:22.544513Z",
     "shell.execute_reply": "2023-11-05T07:25:22.543593Z",
     "shell.execute_reply.started": "2023-11-05T07:24:35.504476Z"
    }
   },
   "outputs": [
    {
     "name": "stderr",
     "output_type": "stream",
     "text": [
      "D1105 07:25:06.926214680     170 config.cc:119]                        gRPC EXPERIMENT tcp_frame_size_tuning               OFF (default:OFF)\n",
      "D1105 07:25:06.926241228     170 config.cc:119]                        gRPC EXPERIMENT tcp_rcv_lowat                       OFF (default:OFF)\n",
      "D1105 07:25:06.926245155     170 config.cc:119]                        gRPC EXPERIMENT peer_state_based_framing            OFF (default:OFF)\n",
      "D1105 07:25:06.926248127     170 config.cc:119]                        gRPC EXPERIMENT flow_control_fixes                  ON  (default:ON)\n",
      "D1105 07:25:06.926250720     170 config.cc:119]                        gRPC EXPERIMENT memory_pressure_controller          OFF (default:OFF)\n",
      "D1105 07:25:06.926253532     170 config.cc:119]                        gRPC EXPERIMENT unconstrained_max_quota_buffer_size OFF (default:OFF)\n",
      "D1105 07:25:06.926256296     170 config.cc:119]                        gRPC EXPERIMENT new_hpack_huffman_decoder           ON  (default:ON)\n",
      "D1105 07:25:06.926258753     170 config.cc:119]                        gRPC EXPERIMENT event_engine_client                 OFF (default:OFF)\n",
      "D1105 07:25:06.926261042     170 config.cc:119]                        gRPC EXPERIMENT monitoring_experiment               ON  (default:ON)\n",
      "D1105 07:25:06.926263317     170 config.cc:119]                        gRPC EXPERIMENT promise_based_client_call           OFF (default:OFF)\n",
      "D1105 07:25:06.926265601     170 config.cc:119]                        gRPC EXPERIMENT free_large_allocator                OFF (default:OFF)\n",
      "D1105 07:25:06.926269094     170 config.cc:119]                        gRPC EXPERIMENT promise_based_server_call           OFF (default:OFF)\n",
      "D1105 07:25:06.926271567     170 config.cc:119]                        gRPC EXPERIMENT transport_supplies_client_latency   OFF (default:OFF)\n",
      "D1105 07:25:06.926273986     170 config.cc:119]                        gRPC EXPERIMENT event_engine_listener               OFF (default:OFF)\n",
      "I1105 07:25:06.926516927     170 ev_epoll1_linux.cc:122]               grpc epoll fd: 61\n",
      "D1105 07:25:06.926529587     170 ev_posix.cc:144]                      Using polling engine: epoll1\n",
      "D1105 07:25:06.926598957     170 dns_resolver_ares.cc:822]             Using ares dns resolver\n",
      "D1105 07:25:06.932339811     170 lb_policy_registry.cc:46]             registering LB policy factory for \"priority_experimental\"\n",
      "D1105 07:25:06.932359030     170 lb_policy_registry.cc:46]             registering LB policy factory for \"outlier_detection_experimental\"\n",
      "D1105 07:25:06.932369916     170 lb_policy_registry.cc:46]             registering LB policy factory for \"weighted_target_experimental\"\n",
      "D1105 07:25:06.932373976     170 lb_policy_registry.cc:46]             registering LB policy factory for \"pick_first\"\n",
      "D1105 07:25:06.932377915     170 lb_policy_registry.cc:46]             registering LB policy factory for \"round_robin\"\n",
      "D1105 07:25:06.932381794     170 lb_policy_registry.cc:46]             registering LB policy factory for \"weighted_round_robin_experimental\"\n",
      "D1105 07:25:06.932397097     170 lb_policy_registry.cc:46]             registering LB policy factory for \"ring_hash_experimental\"\n",
      "D1105 07:25:06.932431064     170 lb_policy_registry.cc:46]             registering LB policy factory for \"grpclb\"\n",
      "D1105 07:25:06.932470423     170 lb_policy_registry.cc:46]             registering LB policy factory for \"rls_experimental\"\n",
      "D1105 07:25:06.932491511     170 lb_policy_registry.cc:46]             registering LB policy factory for \"xds_cluster_manager_experimental\"\n",
      "D1105 07:25:06.932496863     170 lb_policy_registry.cc:46]             registering LB policy factory for \"xds_cluster_impl_experimental\"\n",
      "D1105 07:25:06.932500982     170 lb_policy_registry.cc:46]             registering LB policy factory for \"cds_experimental\"\n",
      "D1105 07:25:06.932510069     170 lb_policy_registry.cc:46]             registering LB policy factory for \"xds_cluster_resolver_experimental\"\n",
      "D1105 07:25:06.932514461     170 lb_policy_registry.cc:46]             registering LB policy factory for \"xds_override_host_experimental\"\n",
      "D1105 07:25:06.932518407     170 lb_policy_registry.cc:46]             registering LB policy factory for \"xds_wrr_locality_experimental\"\n",
      "D1105 07:25:06.932524380     170 certificate_provider_registry.cc:35]  registering certificate provider factory for \"file_watcher\"\n",
      "I1105 07:25:06.936747877     170 socket_utils_common_posix.cc:408]     Disabling AF_INET6 sockets because ::1 is not available.\n",
      "I1105 07:25:06.951604140     329 socket_utils_common_posix.cc:337]     TCP_USER_TIMEOUT is available. TCP_USER_TIMEOUT will be used thereafter\n",
      "E1105 07:25:06.957726929     329 oauth2_credentials.cc:236]            oauth_fetch: UNKNOWN:C-ares status is not ARES_SUCCESS qtype=A name=metadata.google.internal. is_balancer=0: Domain name not found {grpc_status:2, created_time:\"2023-11-05T07:25:06.957711551+00:00\"}\n"
     ]
    },
    {
     "name": "stdout",
     "output_type": "stream",
     "text": [
      "Running on TPU  \n",
      "INFO:tensorflow:Deallocate tpu buffers before initializing tpu system.\n",
      "INFO:tensorflow:Initializing the TPU system: local\n",
      "INFO:tensorflow:Finished initializing TPU system.\n"
     ]
    },
    {
     "name": "stderr",
     "output_type": "stream",
     "text": [
      "WARNING:absl:`tf.distribute.experimental.TPUStrategy` is deprecated, please use  the non experimental symbol `tf.distribute.TPUStrategy` instead.\n"
     ]
    },
    {
     "name": "stdout",
     "output_type": "stream",
     "text": [
      "INFO:tensorflow:Found TPU system:\n"
     ]
    },
    {
     "name": "stderr",
     "output_type": "stream",
     "text": [
      "INFO:tensorflow:Found TPU system:\n"
     ]
    },
    {
     "name": "stdout",
     "output_type": "stream",
     "text": [
      "INFO:tensorflow:*** Num TPU Cores: 8\n"
     ]
    },
    {
     "name": "stderr",
     "output_type": "stream",
     "text": [
      "INFO:tensorflow:*** Num TPU Cores: 8\n"
     ]
    },
    {
     "name": "stdout",
     "output_type": "stream",
     "text": [
      "INFO:tensorflow:*** Num TPU Workers: 1\n"
     ]
    },
    {
     "name": "stderr",
     "output_type": "stream",
     "text": [
      "INFO:tensorflow:*** Num TPU Workers: 1\n"
     ]
    },
    {
     "name": "stdout",
     "output_type": "stream",
     "text": [
      "INFO:tensorflow:*** Num TPU Cores Per Worker: 8\n"
     ]
    },
    {
     "name": "stderr",
     "output_type": "stream",
     "text": [
      "INFO:tensorflow:*** Num TPU Cores Per Worker: 8\n"
     ]
    },
    {
     "name": "stdout",
     "output_type": "stream",
     "text": [
      "INFO:tensorflow:*** Available Device: _DeviceAttributes(/job:localhost/replica:0/task:0/device:CPU:0, CPU, 0, 0)\n"
     ]
    },
    {
     "name": "stderr",
     "output_type": "stream",
     "text": [
      "INFO:tensorflow:*** Available Device: _DeviceAttributes(/job:localhost/replica:0/task:0/device:CPU:0, CPU, 0, 0)\n"
     ]
    },
    {
     "name": "stdout",
     "output_type": "stream",
     "text": [
      "INFO:tensorflow:*** Available Device: _DeviceAttributes(/job:localhost/replica:0/task:0/device:TPU:0, TPU, 0, 0)\n"
     ]
    },
    {
     "name": "stderr",
     "output_type": "stream",
     "text": [
      "INFO:tensorflow:*** Available Device: _DeviceAttributes(/job:localhost/replica:0/task:0/device:TPU:0, TPU, 0, 0)\n"
     ]
    },
    {
     "name": "stdout",
     "output_type": "stream",
     "text": [
      "INFO:tensorflow:*** Available Device: _DeviceAttributes(/job:localhost/replica:0/task:0/device:TPU:1, TPU, 0, 0)\n"
     ]
    },
    {
     "name": "stderr",
     "output_type": "stream",
     "text": [
      "INFO:tensorflow:*** Available Device: _DeviceAttributes(/job:localhost/replica:0/task:0/device:TPU:1, TPU, 0, 0)\n"
     ]
    },
    {
     "name": "stdout",
     "output_type": "stream",
     "text": [
      "INFO:tensorflow:*** Available Device: _DeviceAttributes(/job:localhost/replica:0/task:0/device:TPU:2, TPU, 0, 0)\n"
     ]
    },
    {
     "name": "stderr",
     "output_type": "stream",
     "text": [
      "INFO:tensorflow:*** Available Device: _DeviceAttributes(/job:localhost/replica:0/task:0/device:TPU:2, TPU, 0, 0)\n"
     ]
    },
    {
     "name": "stdout",
     "output_type": "stream",
     "text": [
      "INFO:tensorflow:*** Available Device: _DeviceAttributes(/job:localhost/replica:0/task:0/device:TPU:3, TPU, 0, 0)\n"
     ]
    },
    {
     "name": "stderr",
     "output_type": "stream",
     "text": [
      "INFO:tensorflow:*** Available Device: _DeviceAttributes(/job:localhost/replica:0/task:0/device:TPU:3, TPU, 0, 0)\n"
     ]
    },
    {
     "name": "stdout",
     "output_type": "stream",
     "text": [
      "INFO:tensorflow:*** Available Device: _DeviceAttributes(/job:localhost/replica:0/task:0/device:TPU:4, TPU, 0, 0)\n"
     ]
    },
    {
     "name": "stderr",
     "output_type": "stream",
     "text": [
      "INFO:tensorflow:*** Available Device: _DeviceAttributes(/job:localhost/replica:0/task:0/device:TPU:4, TPU, 0, 0)\n"
     ]
    },
    {
     "name": "stdout",
     "output_type": "stream",
     "text": [
      "INFO:tensorflow:*** Available Device: _DeviceAttributes(/job:localhost/replica:0/task:0/device:TPU:5, TPU, 0, 0)\n"
     ]
    },
    {
     "name": "stderr",
     "output_type": "stream",
     "text": [
      "INFO:tensorflow:*** Available Device: _DeviceAttributes(/job:localhost/replica:0/task:0/device:TPU:5, TPU, 0, 0)\n"
     ]
    },
    {
     "name": "stdout",
     "output_type": "stream",
     "text": [
      "INFO:tensorflow:*** Available Device: _DeviceAttributes(/job:localhost/replica:0/task:0/device:TPU:6, TPU, 0, 0)\n"
     ]
    },
    {
     "name": "stderr",
     "output_type": "stream",
     "text": [
      "INFO:tensorflow:*** Available Device: _DeviceAttributes(/job:localhost/replica:0/task:0/device:TPU:6, TPU, 0, 0)\n"
     ]
    },
    {
     "name": "stdout",
     "output_type": "stream",
     "text": [
      "INFO:tensorflow:*** Available Device: _DeviceAttributes(/job:localhost/replica:0/task:0/device:TPU:7, TPU, 0, 0)\n"
     ]
    },
    {
     "name": "stderr",
     "output_type": "stream",
     "text": [
      "INFO:tensorflow:*** Available Device: _DeviceAttributes(/job:localhost/replica:0/task:0/device:TPU:7, TPU, 0, 0)\n"
     ]
    },
    {
     "name": "stdout",
     "output_type": "stream",
     "text": [
      "INFO:tensorflow:*** Available Device: _DeviceAttributes(/job:localhost/replica:0/task:0/device:TPU_SYSTEM:0, TPU_SYSTEM, 0, 0)\n"
     ]
    },
    {
     "name": "stderr",
     "output_type": "stream",
     "text": [
      "INFO:tensorflow:*** Available Device: _DeviceAttributes(/job:localhost/replica:0/task:0/device:TPU_SYSTEM:0, TPU_SYSTEM, 0, 0)\n"
     ]
    },
    {
     "name": "stdout",
     "output_type": "stream",
     "text": [
      "REPLICAS:  8\n"
     ]
    }
   ],
   "source": [
    "# Import necessary libraries\n",
    "import os\n",
    "import numpy as np\n",
    "import pandas as pd\n",
    "import tensorflow as tf\n",
    "from tensorflow.keras.preprocessing.image import ImageDataGenerator\n",
    "\n",
    "# Load and preprocess the dataset\n",
    "data_dir = '/kaggle/input/flower-classification-with-tpus'\n",
    "\n",
    "# Detect hardware, return appropriate distribution strategy\n",
    "try:\n",
    "    tpu = tf.distribute.cluster_resolver.TPUClusterResolver()  # TPU detection. No parameters necessary if TPU_NAME environment variable is set. On Kaggle this is always the case.\n",
    "    print('Running on TPU ', tpu.master())\n",
    "except ValueError:\n",
    "    tpu = None\n",
    "\n",
    "if tpu:\n",
    "    tf.config.experimental_connect_to_cluster(tpu)\n",
    "    tf.tpu.experimental.initialize_tpu_system(tpu)\n",
    "    strategy = tf.distribute.experimental.TPUStrategy(tpu)\n",
    "else:\n",
    "    strategy = tf.distribute.get_strategy() # default distribution strategy in Tensorflow. Works on CPU and single GPU.\n",
    "\n",
    "print(\"REPLICAS: \", strategy.num_replicas_in_sync)\n"
   ]
  },
  {
   "cell_type": "markdown",
   "metadata": {},
   "source": [
    "# Load Data"
   ]
  },
  {
   "cell_type": "markdown",
   "metadata": {},
   "source": [
    "### Reference: https://www.kaggle.com/code/sathviknitap/tpu-flower-classification-assignment"
   ]
  },
  {
   "cell_type": "code",
   "execution_count": 3,
   "metadata": {
    "execution": {
     "iopub.execute_input": "2023-11-05T07:25:29.367380Z",
     "iopub.status.busy": "2023-11-05T07:25:29.366650Z",
     "iopub.status.idle": "2023-11-05T07:25:29.644665Z",
     "shell.execute_reply": "2023-11-05T07:25:29.643658Z",
     "shell.execute_reply.started": "2023-11-05T07:25:29.367303Z"
    }
   },
   "outputs": [],
   "source": [
    "IMAGE_SIZE = [192, 192] # at this size, a GPU will run out of memory. Use the TPU\n",
    "EPOCHS = 5\n",
    "BATCH_SIZE = 16 * strategy.num_replicas_in_sync\n",
    "\n",
    "NUM_TRAINING_IMAGES = 12753\n",
    "NUM_TEST_IMAGES = 7382\n",
    "STEPS_PER_EPOCH = NUM_TRAINING_IMAGES // BATCH_SIZE\n",
    "\n",
    "def decode_image(image_data):\n",
    "    image = tf.image.decode_jpeg(image_data, channels=3)\n",
    "    image = tf.cast(image, tf.float32) / 255.0  # convert image to floats in [0, 1] range\n",
    "    image = tf.image.resize(image, (192, 192))  # Resize the image to the expected input shape\n",
    "    return image\n",
    "\n",
    "\n",
    "def read_labeled_tfrecord(example):\n",
    "    LABELED_TFREC_FORMAT = {\n",
    "        \"image\": tf.io.FixedLenFeature([], tf.string), # tf.string means bytestring\n",
    "        \"class\": tf.io.FixedLenFeature([], tf.int64),  # shape [] means single element\n",
    "    }\n",
    "    example = tf.io.parse_single_example(example, LABELED_TFREC_FORMAT)\n",
    "    image = decode_image(example['image'])\n",
    "    label = tf.cast(example['class'], tf.int32)\n",
    "    return image, label # returns a dataset of (image, label) pairs\n",
    "\n",
    "def read_unlabeled_tfrecord(example):\n",
    "    UNLABELED_TFREC_FORMAT = {\n",
    "        \"image\": tf.io.FixedLenFeature([], tf.string), # tf.string means bytestring\n",
    "        \"id\": tf.io.FixedLenFeature([], tf.string),  # shape [] means single element\n",
    "        # class is missing, this competitions's challenge is to predict flower classes for the test dataset\n",
    "    }\n",
    "    example = tf.io.parse_single_example(example, UNLABELED_TFREC_FORMAT)\n",
    "    image = decode_image(example['image'])\n",
    "    idnum = example['id']\n",
    "    return image, idnum # returns a dataset of image(s)\n",
    "\n",
    "def load_dataset(filenames, labeled=True, ordered=False):\n",
    "    # Read from TFRecords. For optimal performance, reading from multiple files at once and\n",
    "    # disregarding data order. Order does not matter since we will be shuffling the data anyway.\n",
    "\n",
    "    ignore_order = tf.data.Options()\n",
    "    if not ordered:\n",
    "        ignore_order.experimental_deterministic = False # disable order, increase speed\n",
    "\n",
    "    dataset = tf.data.TFRecordDataset(filenames) # automatically interleaves reads from multiple files\n",
    "    dataset = dataset.with_options(ignore_order) # uses data as soon as it streams in, rather than in its original order\n",
    "    dataset = dataset.map(read_labeled_tfrecord if labeled else read_unlabeled_tfrecord)\n",
    "    # returns a dataset of (image, label) pairs if labeled=True or (image, id) pairs if labeled=False\n",
    "    return dataset\n",
    "\n",
    "def get_training_dataset():\n",
    "    dataset = load_dataset(tf.io.gfile.glob(data_dir + '/tfrecords-jpeg-192x192/train/*.tfrec'), labeled=True)\n",
    "    dataset = dataset.repeat() # the training dataset must repeat for several epochs\n",
    "    dataset = dataset.shuffle(2048)\n",
    "    dataset = dataset.batch(BATCH_SIZE)\n",
    "    return dataset\n",
    "\n",
    "def get_validation_dataset():\n",
    "    dataset = load_dataset(tf.io.gfile.glob(data_dir + '/tfrecords-jpeg-192x192/val/*.tfrec'), labeled=True, ordered=False)\n",
    "    dataset = dataset.batch(BATCH_SIZE)\n",
    "    dataset = dataset.cache()\n",
    "    return dataset\n",
    "\n",
    "def get_test_dataset(ordered=False):\n",
    "    dataset = load_dataset(tf.io.gfile.glob(data_dir + '/tfrecords-jpeg-192x192/test/*.tfrec'), labeled=False, ordered=ordered)\n",
    "    dataset = dataset.batch(BATCH_SIZE)\n",
    "    return dataset\n",
    "\n",
    "training_dataset = get_training_dataset()\n",
    "validation_dataset = get_validation_dataset()"
   ]
  },
  {
   "cell_type": "markdown",
   "metadata": {},
   "source": [
    "# Data augmentation\n"
   ]
  },
  {
   "cell_type": "code",
   "execution_count": 4,
   "metadata": {
    "execution": {
     "iopub.execute_input": "2023-11-05T07:25:37.166301Z",
     "iopub.status.busy": "2023-11-05T07:25:37.165959Z",
     "iopub.status.idle": "2023-11-05T07:25:37.281436Z",
     "shell.execute_reply": "2023-11-05T07:25:37.280167Z",
     "shell.execute_reply.started": "2023-11-05T07:25:37.166274Z"
    }
   },
   "outputs": [],
   "source": [
    "# My contribution comes here\n",
    "\n",
    "\n",
    "from tensorflow import image as tf_image\n",
    "\n",
    "def augment_image(image, label):\n",
    "    # Data augmentation\n",
    "    image = tf_image.random_flip_left_right(image)\n",
    "    image = tf_image.random_contrast(image, 0.8, 1.2)\n",
    "    # Add more data augmentation functions as needed\n",
    "\n",
    "    return image, label\n",
    "\n",
    "def get_training_dataset(augment=True):\n",
    "    dataset = load_dataset(tf.io.gfile.glob(data_dir + '/tfrecords-jpeg-192x192/train/*.tfrec'), labeled=True)\n",
    "    dataset = dataset.repeat()  # The training dataset must repeat for several epochs\n",
    "    dataset = dataset.shuffle(2048)\n",
    "    \n",
    "    if augment:\n",
    "        dataset = dataset.map(augment_image, num_parallel_calls=tf.data.experimental.AUTOTUNE)\n",
    "    \n",
    "    dataset = dataset.batch(BATCH_SIZE)\n",
    "    return dataset\n",
    "\n",
    "def get_testing_dataset():\n",
    "    dataset = load_dataset(tf.io.gfile.glob(data_dir + '/tfrecords-jpeg-192x192/test/*.tfrec'), labeled=True)\n",
    "    dataset = dataset.batch(BATCH_SIZE)\n",
    "    return dataset\n",
    "\n",
    "training_dataset = get_training_dataset(augment=True)\n",
    "testing_dataset = get_testing_dataset()\n"
   ]
  },
  {
   "cell_type": "markdown",
   "metadata": {},
   "source": [
    "# 2. Model Architecture:"
   ]
  },
  {
   "cell_type": "code",
   "execution_count": 5,
   "metadata": {
    "execution": {
     "iopub.execute_input": "2023-11-05T07:25:52.461113Z",
     "iopub.status.busy": "2023-11-05T07:25:52.460247Z",
     "iopub.status.idle": "2023-11-05T07:25:52.588129Z",
     "shell.execute_reply": "2023-11-05T07:25:52.587322Z",
     "shell.execute_reply.started": "2023-11-05T07:25:52.461082Z"
    }
   },
   "outputs": [
    {
     "name": "stdout",
     "output_type": "stream",
     "text": [
      "Model: \"sequential\"\n",
      "_________________________________________________________________\n",
      " Layer (type)                Output Shape              Param #   \n",
      "=================================================================\n",
      " conv2d (Conv2D)             (None, 190, 190, 32)      896       \n",
      "                                                                 \n",
      " max_pooling2d (MaxPooling2D  (None, 95, 95, 32)       0         \n",
      " )                                                               \n",
      "                                                                 \n",
      " conv2d_1 (Conv2D)           (None, 93, 93, 64)        18496     \n",
      "                                                                 \n",
      " max_pooling2d_1 (MaxPooling  (None, 46, 46, 64)       0         \n",
      " 2D)                                                             \n",
      "                                                                 \n",
      " flatten (Flatten)           (None, 135424)            0         \n",
      "                                                                 \n",
      " dense (Dense)               (None, 64)                8667200   \n",
      "                                                                 \n",
      " dropout (Dropout)           (None, 64)                0         \n",
      "                                                                 \n",
      " dense_1 (Dense)             (None, 10)                650       \n",
      "                                                                 \n",
      "=================================================================\n",
      "Total params: 8,687,242\n",
      "Trainable params: 8,687,242\n",
      "Non-trainable params: 0\n",
      "_________________________________________________________________\n"
     ]
    }
   ],
   "source": [
    "# My contribution comes here\n",
    "\n",
    "\n",
    "from tensorflow.keras import layers, models\n",
    "\n",
    "# Define the CNN model\n",
    "def create_model(input_shape, num_classes):\n",
    "    model = models.Sequential()\n",
    "\n",
    "    # Convolutional layers\n",
    "    model.add(layers.Conv2D(32, (3, 3), activation='relu', input_shape=input_shape))\n",
    "    model.add(layers.MaxPooling2D((2, 2)))\n",
    "    model.add(layers.Conv2D(64, (3, 3), activation='relu'))\n",
    "    model.add(layers.MaxPooling2D((2, 2)))\n",
    "    \n",
    "    # Flatten the output of the convolutional layers\n",
    "    model.add(layers.Flatten())\n",
    "    \n",
    "    # Fully connected layers\n",
    "    model.add(layers.Dense(64, activation='relu'))\n",
    "    model.add(layers.Dropout(0.5))\n",
    "    \n",
    "    # Output layer\n",
    "    model.add(layers.Dense(num_classes, activation='softmax'))\n",
    "    \n",
    "    return model\n",
    "\n",
    "# Define the input shape and number of classes\n",
    "input_shape = (*IMAGE_SIZE, 3)  # Use the same shape as the preprocessed dataset\n",
    "num_classes = 10  # Adjust this based on the number of classes in your dataset\n",
    "\n",
    "# Create the model\n",
    "model = create_model(input_shape, num_classes)\n",
    "\n",
    "# Compile the model\n",
    "model.compile(optimizer='adam',\n",
    "              loss='sparse_categorical_crossentropy',\n",
    "              metrics=['accuracy'])\n",
    "\n",
    "\n",
    "# Optionally, you can print a summary of the model architecture\n",
    "model.summary()\n"
   ]
  },
  {
   "cell_type": "markdown",
   "metadata": {},
   "source": [
    "# 3. Training and Recording Metrics:"
   ]
  },
  {
   "cell_type": "markdown",
   "metadata": {},
   "source": [
    "### Reference: https://www.kaggle.com/code/sathviknitap/tpu-flower-classification-assignment"
   ]
  },
  {
   "cell_type": "code",
   "execution_count": 12,
   "metadata": {
    "execution": {
     "iopub.execute_input": "2023-11-05T07:35:47.315321Z",
     "iopub.status.busy": "2023-11-05T07:35:47.314216Z",
     "iopub.status.idle": "2023-11-05T07:36:34.658850Z",
     "shell.execute_reply": "2023-11-05T07:36:34.657784Z",
     "shell.execute_reply.started": "2023-11-05T07:35:47.315272Z"
    }
   },
   "outputs": [
    {
     "name": "stdout",
     "output_type": "stream",
     "text": [
      "Epoch 1/5\n"
     ]
    },
    {
     "name": "stderr",
     "output_type": "stream",
     "text": [
      "2023-11-05 07:35:50.440377: E tensorflow/core/grappler/optimizers/meta_optimizer.cc:954] model_pruner failed: INVALID_ARGUMENT: Graph does not contain terminal node AssignAddVariableOp.\n",
      "2023-11-05 07:35:50.500448: E tensorflow/core/grappler/optimizers/meta_optimizer.cc:954] model_pruner failed: INVALID_ARGUMENT: Graph does not contain terminal node AssignAddVariableOp.\n"
     ]
    },
    {
     "name": "stdout",
     "output_type": "stream",
     "text": [
      "99/99 [==============================] - ETA: 0s - loss: 4.0311 - sparse_categorical_accuracy: 0.1077"
     ]
    },
    {
     "name": "stderr",
     "output_type": "stream",
     "text": [
      "2023-11-05 07:36:03.054570: E tensorflow/core/grappler/optimizers/meta_optimizer.cc:954] model_pruner failed: INVALID_ARGUMENT: Graph does not contain terminal node AssignAddVariableOp.\n",
      "2023-11-05 07:36:03.164961: E tensorflow/core/grappler/optimizers/meta_optimizer.cc:954] model_pruner failed: INVALID_ARGUMENT: Graph does not contain terminal node AssignAddVariableOp.\n"
     ]
    },
    {
     "name": "stdout",
     "output_type": "stream",
     "text": [
      "99/99 [==============================] - 21s 133ms/step - loss: 4.0311 - sparse_categorical_accuracy: 0.1077 - val_loss: 3.7172 - val_sparse_categorical_accuracy: 0.1848\n",
      "Epoch 2/5\n",
      "99/99 [==============================] - 6s 61ms/step - loss: 3.5348 - sparse_categorical_accuracy: 0.2062 - val_loss: 3.3709 - val_sparse_categorical_accuracy: 0.2465\n",
      "Epoch 3/5\n",
      "99/99 [==============================] - 6s 61ms/step - loss: 3.2319 - sparse_categorical_accuracy: 0.2644 - val_loss: 3.1208 - val_sparse_categorical_accuracy: 0.2866\n",
      "Epoch 4/5\n",
      "99/99 [==============================] - 6s 61ms/step - loss: 2.9958 - sparse_categorical_accuracy: 0.3155 - val_loss: 2.9256 - val_sparse_categorical_accuracy: 0.3386\n",
      "Epoch 5/5\n",
      "99/99 [==============================] - 6s 61ms/step - loss: 2.8180 - sparse_categorical_accuracy: 0.3574 - val_loss: 2.7684 - val_sparse_categorical_accuracy: 0.3704\n",
      "Training Accuracy: [0.10771780461072922, 0.2062026560306549, 0.26444128155708313, 0.3154987394809723, 0.35740214586257935]\n",
      "Validation Accuracy: [0.18480603396892548, 0.24649783968925476, 0.28663793206214905, 0.33863145112991333, 0.3704202473163605]\n",
      "Training Loss: [4.031075954437256, 3.5348093509674072, 3.2318546772003174, 2.9957668781280518, 2.8180229663848877]\n",
      "Validation Loss: [3.717164993286133, 3.370903253555298, 3.1207802295684814, 2.9255878925323486, 2.768371343612671]\n"
     ]
    }
   ],
   "source": [
    "# Train the model\n",
    "with strategy.scope():\n",
    "    pretrained_model = tf.keras.applications.VGG16(weights='imagenet', include_top=False, input_shape=[*IMAGE_SIZE, 3])\n",
    "    pretrained_model.trainable = False  # Transfer learning\n",
    "\n",
    "    model = tf.keras.Sequential([\n",
    "        pretrained_model,\n",
    "        tf.keras.layers.GlobalAveragePooling2D(),\n",
    "        tf.keras.layers.Dense(104, activation='softmax')\n",
    "    ])\n",
    "\n",
    "model.compile(\n",
    "    optimizer='adam',\n",
    "    loss='sparse_categorical_crossentropy',\n",
    "    metrics=['sparse_categorical_accuracy']\n",
    ")\n",
    "\n",
    "\n",
    "# My contribution comes here\n",
    "# Training the model and recording the history\n",
    "history = model.fit(training_dataset, epochs=EPOCHS, validation_data=validation_dataset, steps_per_epoch=STEPS_PER_EPOCH)\n",
    "\n",
    "# Record performance metrics\n",
    "accuracy = history.history['sparse_categorical_accuracy']\n",
    "val_accuracy = history.history['val_sparse_categorical_accuracy']\n",
    "loss = history.history['loss']\n",
    "val_loss = history.history['val_loss']\n",
    "\n",
    "# Optionally, you can print or save the training history for further analysis\n",
    "print(\"Training Accuracy:\", accuracy)\n",
    "print(\"Validation Accuracy:\", val_accuracy)\n",
    "print(\"Training Loss:\", loss)\n",
    "print(\"Validation Loss:\", val_loss)\n"
   ]
  },
  {
   "cell_type": "markdown",
   "metadata": {},
   "source": [
    "# 4. Hyperparameter Tuning:"
   ]
  },
  {
   "cell_type": "code",
   "execution_count": 14,
   "metadata": {
    "execution": {
     "iopub.execute_input": "2023-11-05T07:40:36.420476Z",
     "iopub.status.busy": "2023-11-05T07:40:36.420135Z",
     "iopub.status.idle": "2023-11-05T08:41:09.719919Z",
     "shell.execute_reply": "2023-11-05T08:41:09.718489Z",
     "shell.execute_reply.started": "2023-11-05T07:40:36.420449Z"
    }
   },
   "outputs": [
    {
     "name": "stdout",
     "output_type": "stream",
     "text": [
      "Epoch 1/5\n",
      "99/99 [==============================] - 240s 2s/step - loss: 4.0234 - sparse_categorical_accuracy: 0.1062 - val_loss: 3.7139 - val_sparse_categorical_accuracy: 0.1813\n",
      "Epoch 2/5\n",
      "99/99 [==============================] - 240s 2s/step - loss: 3.5263 - sparse_categorical_accuracy: 0.2129 - val_loss: 3.3678 - val_sparse_categorical_accuracy: 0.2406\n",
      "Epoch 3/5\n",
      "99/99 [==============================] - 241s 2s/step - loss: 3.2314 - sparse_categorical_accuracy: 0.2655 - val_loss: 3.1144 - val_sparse_categorical_accuracy: 0.2802\n",
      "Epoch 4/5\n",
      "99/99 [==============================] - 241s 2s/step - loss: 2.9931 - sparse_categorical_accuracy: 0.3141 - val_loss: 2.9202 - val_sparse_categorical_accuracy: 0.3419\n",
      "Epoch 5/5\n",
      "99/99 [==============================] - 241s 2s/step - loss: 2.8089 - sparse_categorical_accuracy: 0.3612 - val_loss: 2.7639 - val_sparse_categorical_accuracy: 0.3737\n",
      "Epoch 1/5\n",
      "99/99 [==============================] - 243s 2s/step - loss: 3.1272 - sparse_categorical_accuracy: 0.2920 - val_loss: 2.4266 - val_sparse_categorical_accuracy: 0.4547\n",
      "Epoch 2/5\n",
      "99/99 [==============================] - 242s 2s/step - loss: 2.1339 - sparse_categorical_accuracy: 0.4908 - val_loss: 1.9895 - val_sparse_categorical_accuracy: 0.5226\n",
      "Epoch 3/5\n",
      "99/99 [==============================] - 242s 2s/step - loss: 1.7814 - sparse_categorical_accuracy: 0.5673 - val_loss: 1.7778 - val_sparse_categorical_accuracy: 0.5544\n",
      "Epoch 4/5\n",
      "99/99 [==============================] - 242s 2s/step - loss: 1.5694 - sparse_categorical_accuracy: 0.6194 - val_loss: 1.6588 - val_sparse_categorical_accuracy: 0.5983\n",
      "Epoch 5/5\n",
      "99/99 [==============================] - 243s 2s/step - loss: 1.4384 - sparse_categorical_accuracy: 0.6383 - val_loss: 1.5668 - val_sparse_categorical_accuracy: 0.6078\n",
      "Epoch 1/5\n",
      "99/99 [==============================] - 244s 2s/step - loss: 4.9069 - sparse_categorical_accuracy: 0.3370 - val_loss: 2.2324 - val_sparse_categorical_accuracy: 0.4946\n",
      "Epoch 2/5\n",
      "99/99 [==============================] - 243s 2s/step - loss: 1.7968 - sparse_categorical_accuracy: 0.5633 - val_loss: 2.0192 - val_sparse_categorical_accuracy: 0.5480\n",
      "Epoch 3/5\n",
      "99/99 [==============================] - 243s 2s/step - loss: 1.6248 - sparse_categorical_accuracy: 0.6005 - val_loss: 1.9390 - val_sparse_categorical_accuracy: 0.5512\n",
      "Epoch 4/5\n",
      "99/99 [==============================] - 243s 2s/step - loss: 1.5246 - sparse_categorical_accuracy: 0.6282 - val_loss: 1.7497 - val_sparse_categorical_accuracy: 0.6088\n",
      "Epoch 5/5\n",
      "99/99 [==============================] - 244s 2s/step - loss: 1.4518 - sparse_categorical_accuracy: 0.6521 - val_loss: 2.0447 - val_sparse_categorical_accuracy: 0.5843\n",
      "Learning Rate: 0.001\n",
      "Training Accuracy: [0.10621843487024307, 0.21291035413742065, 0.26546716690063477, 0.31407827138900757, 0.3611900210380554]\n",
      "Validation Accuracy: [0.18130387365818024, 0.24057112634181976, 0.2801724076271057, 0.3418642282485962, 0.37365302443504333]\n",
      "Training Loss: [4.023390769958496, 3.5263216495513916, 3.231422185897827, 2.9930808544158936, 2.8089370727539062]\n",
      "Validation Loss: [3.713920831680298, 3.3677709102630615, 3.1144354343414307, 2.920180320739746, 2.763920545578003]\n",
      "Learning Rate: 0.01\n",
      "Training Accuracy: [0.2919823229312897, 0.4908459484577179, 0.5673137903213501, 0.6193971037864685, 0.6382575631141663]\n",
      "Validation Accuracy: [0.45474138855934143, 0.5226293206214905, 0.5544180870056152, 0.5983297228813171, 0.607758641242981]\n",
      "Training Loss: [3.1272287368774414, 2.133881092071533, 1.781397819519043, 1.5694423913955688, 1.4383946657180786]\n",
      "Validation Loss: [2.426608085632324, 1.9895131587982178, 1.7777926921844482, 1.6588315963745117, 1.5668132305145264]\n",
      "Learning Rate: 0.1\n",
      "Training Accuracy: [0.33704230189323425, 0.5632891654968262, 0.6004577279090881, 0.6281565427780151, 0.6521464586257935]\n",
      "Validation Accuracy: [0.49461206793785095, 0.5479525923728943, 0.5511853694915771, 0.6088362336158752, 0.584321141242981]\n",
      "Training Loss: [4.906911373138428, 1.7967541217803955, 1.6247755289077759, 1.5246334075927734, 1.4517858028411865]\n",
      "Validation Loss: [2.2323830127716064, 2.019164562225342, 1.9389965534210205, 1.7496516704559326, 2.044734477996826]\n"
     ]
    }
   ],
   "source": [
    "# My contribution comes here\n",
    "\n",
    "# Define a list of learning rates to experiment with\n",
    "learning_rates = [0.001, 0.01, 0.1]\n",
    "\n",
    "# Create lists to store performance metrics\n",
    "all_train_accuracy = []\n",
    "all_val_accuracy = []\n",
    "all_train_loss = []\n",
    "all_val_loss = []\n",
    "\n",
    "# Loop through different learning rates\n",
    "for learning_rate in learning_rates:\n",
    "    # Build and compile the model with the current learning rate\n",
    "    model = tf.keras.Sequential([\n",
    "        pretrained_model,\n",
    "        tf.keras.layers.GlobalAveragePooling2D(),\n",
    "        tf.keras.layers.Dense(104, activation='softmax')\n",
    "    ])\n",
    "    \n",
    "    model.compile(\n",
    "        optimizer=tf.keras.optimizers.Adam(learning_rate=learning_rate),\n",
    "        loss='sparse_categorical_crossentropy',\n",
    "        metrics=['sparse_categorical_accuracy']\n",
    "    )\n",
    "\n",
    "    # Train the model and record performance metrics\n",
    "    history = model.fit(training_dataset, epochs=EPOCHS, validation_data=validation_dataset, steps_per_epoch=STEPS_PER_EPOCH)\n",
    "    \n",
    "    # Record performance metrics for this learning rate\n",
    "    train_accuracy = history.history['sparse_categorical_accuracy']\n",
    "    val_accuracy = history.history['val_sparse_categorical_accuracy']\n",
    "    train_loss = history.history['loss']\n",
    "    val_loss = history.history['val_loss']\n",
    "    \n",
    "    all_train_accuracy.append(train_accuracy)\n",
    "    all_val_accuracy.append(val_accuracy)\n",
    "    all_train_loss.append(train_loss)\n",
    "    all_val_loss.append(val_loss)\n",
    "\n",
    "# Optionally, you can print or save the performance metrics for analysis\n",
    "for i, learning_rate in enumerate(learning_rates):\n",
    "    print(f\"Learning Rate: {learning_rate}\")\n",
    "    print(f\"Training Accuracy: {all_train_accuracy[i]}\")\n",
    "    print(f\"Validation Accuracy: {all_val_accuracy[i]}\")\n",
    "    print(f\"Training Loss: {all_train_loss[i]}\")\n",
    "    print(f\"Validation Loss: {all_val_loss[i]}\")\n"
   ]
  },
  {
   "cell_type": "markdown",
   "metadata": {},
   "source": [
    "# 6. Create Charts and Visualizations:"
   ]
  },
  {
   "cell_type": "code",
   "execution_count": 36,
   "metadata": {
    "execution": {
     "iopub.execute_input": "2023-11-05T09:02:40.473589Z",
     "iopub.status.busy": "2023-11-05T09:02:40.472651Z",
     "iopub.status.idle": "2023-11-05T09:02:44.021994Z",
     "shell.execute_reply": "2023-11-05T09:02:44.020869Z",
     "shell.execute_reply.started": "2023-11-05T09:02:40.473555Z"
    }
   },
   "outputs": [
    {
     "data": {
      "image/png": "[encoded data removed]",
      "text/plain": [
       "<Figure size 640x480 with 1 Axes>"
      ]
     },
     "metadata": {},
     "output_type": "display_data"
    }
   ],
   "source": [
    "# My contribution comes here\n",
    "\n",
    "import matplotlib.pyplot as plt\n",
    "\n",
    "# Plot accuracy over epochs\n",
    "plt.plot(accuracy, label='Training Accuracy')\n",
    "plt.plot(val_accuracy, label='Validation Accuracy')\n",
    "plt.xlabel('Epochs')\n",
    "plt.ylabel('Accuracy')\n",
    "plt.legend()\n",
    "plt.show()\n"
   ]
  },
  {
   "cell_type": "code",
   "execution_count": 46,
   "metadata": {
    "execution": {
     "iopub.execute_input": "2023-11-05T09:31:42.145684Z",
     "iopub.status.busy": "2023-11-05T09:31:42.145300Z",
     "iopub.status.idle": "2023-11-05T09:31:42.779550Z",
     "shell.execute_reply": "2023-11-05T09:31:42.778673Z",
     "shell.execute_reply.started": "2023-11-05T09:31:42.145656Z"
    }
   },
   "outputs": [
    {
     "data": {
      "image/png": "[encoded data removed]",
      "text/plain": [
       "<Figure size 640x480 with 1 Axes>"
      ]
     },
     "metadata": {},
     "output_type": "display_data"
    },
    {
     "data": {
      "image/png": "[encoded data removed]",
      "text/plain": [
       "<Figure size 640x480 with 1 Axes>"
      ]
     },
     "metadata": {},
     "output_type": "display_data"
    },
    {
     "data": {
      "image/png": "[encoded data removed]",
      "text/plain": [
       "<Figure size 640x480 with 1 Axes>"
      ]
     },
     "metadata": {},
     "output_type": "display_data"
    }
   ],
   "source": [
    "# My contribution comes here\n",
    "\n",
    "for i, learning_rate in enumerate(learning_rates):\n",
    "    plt.figure()  # Create a new figure for each learning rate\n",
    "    plt.plot(all_train_accuracy[i], label='Training Accuracy')\n",
    "    plt.plot(all_val_accuracy[i], label='Validation Accuracy')\n",
    "    plt.xlabel('Epochs')\n",
    "    plt.ylabel('Accuracy')\n",
    "    plt.title(f'Learning Rate: {learning_rate}')\n",
    "    plt.legend()\n",
    "    plt.show()\n"
   ]
  }
 ],
 "metadata": {
  "kernelspec": {
   "display_name": "Python 3 (ipykernel)",
   "language": "python",
   "name": "python3"
  },
  "language_info": {
   "codemirror_mode": {
    "name": "ipython",
    "version": 3
   },
   "file_extension": ".py",
   "mimetype": "text/x-python",
   "name": "python",
   "nbconvert_exporter": "python",
   "pygments_lexer": "ipython3",
   "version": "3.9.7"
  }
 },
 "nbformat": 4,
 "nbformat_minor": 4
}
